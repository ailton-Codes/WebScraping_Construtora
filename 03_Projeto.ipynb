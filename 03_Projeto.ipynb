{
 "cells": [
  {
   "cell_type": "code",
   "execution_count": 1,
   "metadata": {},
   "outputs": [],
   "source": [
    "import requests\n",
    "from bs4 import BeautifulSoup\n",
    "import pandas as pd"
   ]
  },
  {
   "cell_type": "code",
   "execution_count": 2,
   "metadata": {},
   "outputs": [],
   "source": [
    "# URL do endpoint da API identificada\n",
    "api_url = \"https://mac.com.br/wp-content/themes/template-wp-mac/internit-search-form/product/product.php\"\n"
   ]
  },
  {
   "cell_type": "code",
   "execution_count": 3,
   "metadata": {},
   "outputs": [],
   "source": [
    "# Cabeçalhos necessários\n",
    "headers = {\n",
    "    'User-Agent': 'Mozilla/5.0 (Windows NT 10.0; Win64; x64) AppleWebKit/537.36 (KHTML, like Gecko) Chrome/128.0.0.0 Safari/537.36',\n",
    "    'Content-Type': 'application/x-www-form-urlencoded',\n",
    "    'Origin': 'https://mac.com.br',\n",
    "    'Referer': 'https://mac.com.br/empreendimentos/',\n",
    "}"
   ]
  },
  {
   "cell_type": "code",
   "execution_count": 4,
   "metadata": {},
   "outputs": [],
   "source": [
    "# Parâmetros da requisição POST (pode ajustar conforme necessário)\n",
    "payload = {\n",
    "    \"search\": None,       # Filtro de busca (geralmente para nome do empreendimento)\n",
    "    \"stage\": \"\",          # Estágio da obra (pode ser algo como \"construção\", \"pronto\", etc.)\n",
    "    \"dormitories\": \"\",    # Número de dormitórios (ex.: \"2\", \"3\", etc.)\n",
    "    \"region\": \"\",         # Região do empreendimento\n",
    "    \"price\": \"\",          # Faixa de preço\n",
    "    \"leisure\": \"\"         # Lazer (amenidades disponíveis)\n",
    "}"
   ]
  },
  {
   "cell_type": "code",
   "execution_count": 5,
   "metadata": {},
   "outputs": [],
   "source": [
    "# Enviando a requisição POST\n",
    "response = requests.post(api_url, headers=headers, data=payload)"
   ]
  },
  {
   "cell_type": "code",
   "execution_count": 6,
   "metadata": {},
   "outputs": [],
   "source": [
    "# Verificando se a requisição foi bem-sucedida\n",
    "if response.status_code == 200:\n",
    "    content = response.text\n",
    "else:\n",
    "    print(f\"Erro na requisição: {response.status_code}\")\n",
    "    exit()"
   ]
  },
  {
   "cell_type": "code",
   "execution_count": 7,
   "metadata": {},
   "outputs": [],
   "source": [
    "# Criar o objeto BeautifulSoup para parsear o HTML\n",
    "soup = BeautifulSoup(content, 'html.parser')"
   ]
  },
  {
   "cell_type": "code",
   "execution_count": 14,
   "metadata": {},
   "outputs": [],
   "source": [
    "# Listas para armazenar os dados\n",
    "empreendimentos = []\n",
    "enderecos = []\n",
    "regiao = []\n",
    "informacoes = []\n",
    "status_obra = []"
   ]
  },
  {
   "cell_type": "code",
   "execution_count": 16,
   "metadata": {},
   "outputs": [],
   "source": [
    "# Encontrar todos os blocos de empreendimento\n",
    "blocos = soup.find_all('div', class_='mac__enterprises-items--item')"
   ]
  },
  {
   "cell_type": "code",
   "execution_count": 17,
   "metadata": {},
   "outputs": [],
   "source": [
    "# Iterar sobre os blocos e extrair os dados\n",
    "for bloco in blocos:\n",
    "    # Nome do empreendimento\n",
    "    nome = bloco.find('h2', class_='mac__enterprises-name').get_text(strip=True)\n",
    "    \n",
    "    # Encontrar os itens dentro do wrapper\n",
    "    itens_informacoes = bloco.find_all('p', class_='mac__enterprises-text')\n",
    "    \n",
    "    # Extraindo as informações conforme a ordem esperada\n",
    "    if len(itens_informacoes) >= 1:\n",
    "        endereco = itens_informacoes[0].get_text(strip=True)\n",
    "    else:\n",
    "        endereco = \"N/A\"\n",
    "    \n",
    "    # Para garantir que todas as informações sejam capturadas, verificaremos até 4 informações adicionais\n",
    "    if len(itens_informacoes) >= 2:\n",
    "        info_1 = itens_informacoes[1].get_text(strip=True)\n",
    "    else:\n",
    "        info_1 = \"N/A\"\n",
    "    \n",
    "    if len(itens_informacoes) >= 3:\n",
    "        info_2 = itens_informacoes[2].get_text(strip=True)\n",
    "    else:\n",
    "        info_2 = \"N/A\"\n",
    "    \n",
    "    if len(itens_informacoes) >= 4:\n",
    "        info_3 = itens_informacoes[3].get_text(strip=True)\n",
    "    else:\n",
    "        info_3 = \"N/A\"\n",
    "    \n",
    "    \n",
    "    # Adicionar os dados às listas\n",
    "    empreendimentos.append(nome)\n",
    "    enderecos.append(endereco)\n",
    "    regiao.append(info_1)\n",
    "    informacoes.append(info_2)\n",
    "    status_obra.append(info_3)\n",
    "\n",
    "# Criar o DataFrame com os dados extraídos\n",
    "df = pd.DataFrame({\n",
    "    'Empreendimento': empreendimentos,\n",
    "    'Endereço': enderecos,\n",
    "    'Região': regiao,  \n",
    "    'Informações': informacoes,  # Pode ser Status da Obra ou outra informação\n",
    "    'Status Obra': status_obra\n",
    "})"
   ]
  },
  {
   "cell_type": "code",
   "execution_count": 19,
   "metadata": {},
   "outputs": [
    {
     "name": "stdout",
     "output_type": "stream",
     "text": [
      "                 Empreendimento                                Endereço  \\\n",
      "0                      Brooklin                         Rua Georgia, 65   \n",
      "1              MAC Vila Mariana                 Rua Neto de Araújo, 156   \n",
      "2                 MAC Pinheiros                 Rua Alves Guimarães, 89   \n",
      "3                    Ateliê 365                      Rua Nova York, 365   \n",
      "4                MAC Ibirapuera                     Av Ibirapuera, 2545   \n",
      "..                          ...                                     ...   \n",
      "91                    Aquarelle                     Rua Itapimirum, 561   \n",
      "92          Varanda Expressions              Rua Brigadeiro Galvão, 153   \n",
      "93     Splendido Jardim do Golf  Av. Engenheiro Alberto de Zagottis, 92   \n",
      "94       Coletânea Vila Mariana                 Rua Conde de Irajá, 142   \n",
      "95  Soberano Parque do Ipiranga              Rua Xavier de Almeida, 717   \n",
      "\n",
      "          Região                Informações        Status Obra  \n",
      "0       Brooklin                2 e 3 dorms           Em breve  \n",
      "1   Vila Mariana               1 a 3 dorms.           Em breve  \n",
      "2      Pinheiros            1, 2 ou 3 dorms           Em Obras  \n",
      "3       Brooklin                151 e 194m²           Em Obras  \n",
      "4          Moema    Studio, 1, 2 e 3 dorms.         Lançamento  \n",
      "..           ...                        ...                ...  \n",
      "91  Vila Andrade           1, 2 ou 3 dorms.  Pronto para Morar  \n",
      "92   Barra Funda  2 ou 3 dorms. com 1 suíte  Pronto para Morar  \n",
      "93    Jurubatuba        3 dorms. e 3 suítes  Pronto para Morar  \n",
      "94  Vila Mariana                   3 dorms.  Pronto para Morar  \n",
      "95      Ipiranga          4 dorms. 3 suítes  Pronto para Morar  \n",
      "\n",
      "[96 rows x 5 columns]\n"
     ]
    }
   ],
   "source": [
    "# Exibir o DataFrame no console\n",
    "print(df)"
   ]
  },
  {
   "cell_type": "code",
   "execution_count": 20,
   "metadata": {},
   "outputs": [],
   "source": [
    "# Exportar para CSV e Excel\n",
    "df.to_csv('empreendimentos.csv', index=False)"
   ]
  },
  {
   "cell_type": "code",
   "execution_count": 21,
   "metadata": {},
   "outputs": [
    {
     "name": "stdout",
     "output_type": "stream",
     "text": [
      "Dados extraídos e salvos com sucesso!\n"
     ]
    }
   ],
   "source": [
    "# Mostrar sucesso na execução\n",
    "print(\"Dados extraídos e salvos com sucesso!\")"
   ]
  }
 ],
 "metadata": {
  "kernelspec": {
   "display_name": "Python 3",
   "language": "python",
   "name": "python3"
  },
  "language_info": {
   "codemirror_mode": {
    "name": "ipython",
    "version": 3
   },
   "file_extension": ".py",
   "mimetype": "text/x-python",
   "name": "python",
   "nbconvert_exporter": "python",
   "pygments_lexer": "ipython3",
   "version": "3.12.2"
  }
 },
 "nbformat": 4,
 "nbformat_minor": 2
}
