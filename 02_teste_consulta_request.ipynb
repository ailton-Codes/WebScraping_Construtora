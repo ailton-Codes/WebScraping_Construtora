{
 "cells": [
  {
   "cell_type": "code",
   "execution_count": 1,
   "metadata": {},
   "outputs": [],
   "source": [
    "import requests"
   ]
  },
  {
   "cell_type": "code",
   "execution_count": 2,
   "metadata": {},
   "outputs": [],
   "source": [
    "# URL do endpoint da API identificada\n",
    "api_url = \"https://mac.com.br/wp-content/themes/template-wp-mac/internit-search-form/product/product.php\"\n"
   ]
  },
  {
   "cell_type": "code",
   "execution_count": 3,
   "metadata": {},
   "outputs": [],
   "source": [
    "# Cabeçalhos necessários\n",
    "headers = {\n",
    "    'User-Agent': 'Mozilla/5.0 (Windows NT 10.0; Win64; x64) AppleWebKit/537.36 (KHTML, like Gecko) Chrome/128.0.0.0 Safari/537.36',\n",
    "    'Content-Type': 'application/x-www-form-urlencoded',\n",
    "    'Origin': 'https://mac.com.br',\n",
    "    'Referer': 'https://mac.com.br/empreendimentos/',\n",
    "}"
   ]
  },
  {
   "cell_type": "code",
   "execution_count": 4,
   "metadata": {},
   "outputs": [],
   "source": [
    "# Parâmetros da requisição POST\n",
    "payload = {\n",
    "    \"search\": None,       # Filtro de busca (geralmente para nome do empreendimento)\n",
    "    \"stage\": \"\",          # Estágio da obra (pode ser algo como \"construção\", \"pronto\", etc.)\n",
    "    \"dormitories\": \"\",    # Número de dormitórios (ex.: \"2\", \"3\", etc.)\n",
    "    \"region\": \"\",         # Região do empreendimento\n",
    "    \"price\": \"\",          # Faixa de preço\n",
    "    \"leisure\": \"\"         # Lazer (amenidades disponíveis)\n",
    "}"
   ]
  },
  {
   "cell_type": "code",
   "execution_count": 5,
   "metadata": {},
   "outputs": [],
   "source": [
    "# Enviando a requisição POST\n",
    "response = requests.post(api_url, headers=headers, data=payload)"
   ]
  },
  {
   "cell_type": "code",
   "execution_count": null,
   "metadata": {},
   "outputs": [],
   "source": [
    "# Verificando o status da requisição\n",
    "if response.status_code == 200:\n",
    "    # Processar o resultado (geralmente será um HTML ou JSON)\n",
    "    print(response.text)\n",
    "else:\n",
    "    print(f\"Erro na requisição: {response.status_code}\")"
   ]
  }
 ],
 "metadata": {
  "kernelspec": {
   "display_name": "Python 3",
   "language": "python",
   "name": "python3"
  },
  "language_info": {
   "codemirror_mode": {
    "name": "ipython",
    "version": 3
   },
   "file_extension": ".py",
   "mimetype": "text/x-python",
   "name": "python",
   "nbconvert_exporter": "python",
   "pygments_lexer": "ipython3",
   "version": "3.12.2"
  }
 },
 "nbformat": 4,
 "nbformat_minor": 2
}
